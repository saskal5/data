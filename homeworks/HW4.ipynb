{
 "cells": [
  {
   "cell_type": "markdown",
   "metadata": {},
   "source": [
    "# Homework 4\n",
    "\n",
    "Before you run your homework run the code below:"
   ]
  },
  {
   "cell_type": "code",
   "execution_count": 139,
   "metadata": {},
   "outputs": [],
   "source": [
    "import os\n",
    "import sys\n",
    "import hashlib\n",
    "import pandas as pd\n",
    "from sklearn.model_selection import train_test_split\n",
    "from sklearn.cluster import KMeans\n",
    "from sklearn.metrics import confusion_matrix\n",
    "from sklearn.neighbors import KNeighborsClassifier\n",
    "from sklearn.preprocessing import StandardScaler\n",
    "import numpy as np\n",
    "from urllib.request import urlopen\n",
    "\n",
    "assert os.path.exists('../homeworks/HW4.ipynb')\n",
    "\n",
    "info = sys.platform + '\\n' + sys.version + '\\n' + os.getcwd() + '\\n' + os.getlogin()\n",
    "name = hashlib.sha256(info.encode('utf-8')).hexdigest()\n",
    "with open('../other/hw-4-'+name,'w') as f:\n",
    "    f.write(info)"
   ]
  },
  {
   "cell_type": "code",
   "execution_count": 140,
   "metadata": {},
   "outputs": [],
   "source": [
    "with open('../other/hw-4-'+name,'r') as f:\n",
    "    info = f.read()\n",
    "name = hashlib.sha256(info.encode('utf-8')).hexdigest()\n",
    "assert os.path.exists('../other/hw-4-'+name)"
   ]
  },
  {
   "cell_type": "markdown",
   "metadata": {},
   "source": [
    "## Task\n",
    "\n",
    "Apply all of the supervised and unsupervised classification and clustering algorithms we learned so far for the [sonar dataset from UCI](http://archive.ics.uci.edu/ml/datasets/connectionist+bench+(sonar,+mines+vs.+rocks)).\n",
    "\n",
    "The code for downloading the data is below. Don't load the data again and again in each subtask, refer the data as `SONAR` after you run the cell below."
   ]
  },
  {
   "cell_type": "code",
   "execution_count": 141,
   "metadata": {},
   "outputs": [],
   "source": [
    "with urlopen(\"https://archive.ics.uci.edu/ml/machine-learning-databases/undocumented/connectionist-bench/sonar/sonar.all-data\") as fil:\n",
    "    SONAR = pd.read_csv(fil, delimiter=',', header=None)"
   ]
  },
  {
   "cell_type": "markdown",
   "metadata": {},
   "source": [
    "Split the tasks into subtasks and into separate cells.  Also before your analysis for each subtask, write a short paragraph before explaining which algorithm you are going to use. Each subtask should look like this"
   ]
  },
  {
   "cell_type": "markdown",
   "metadata": {},
   "source": [
    "## Subtask 1: K-nn Classification\n",
    "\n",
    "For K-nn classification which is a supervised algorithm we need to divide the dataset into training and test. This is already a labeled dataset. The last column represents the type of solid whether it is rock or metal. So we have them as ys. I  preferred the \"euclidean\" type to divide the classes and decided to check the nearest 5 data points.\n"
   ]
  },
  {
   "cell_type": "code",
   "execution_count": 294,
   "metadata": {},
   "outputs": [],
   "source": [
    "xs = SONAR.iloc[:,0:60]\n",
    "ys = SONAR.iloc[:,60]"
   ]
  },
  {
   "cell_type": "code",
   "execution_count": 143,
   "metadata": {},
   "outputs": [],
   "source": [
    "Xtrain, Xtest, Ytrain, Ytest = train_test_split(xs, ys, test_size = 0.25, train_size = 0.75)"
   ]
  },
  {
   "cell_type": "code",
   "execution_count": 144,
   "metadata": {},
   "outputs": [],
   "source": [
    "model = KNeighborsClassifier(n_neighbors = 5, metric = 'euclidean').fit(Xtrain, Ytrain)\n",
    "predictions =  model.predict(Xtest)"
   ]
  },
  {
   "cell_type": "markdown",
   "metadata": {},
   "source": [
    "Checking the accuracy score we see that the K-nn algorithm is not bad with classifying the SONAR dataset."
   ]
  },
  {
   "cell_type": "code",
   "execution_count": 145,
   "metadata": {},
   "outputs": [
    {
     "name": "stdout",
     "output_type": "stream",
     "text": [
      "[[23  4]\n",
      " [ 6 19]]\n"
     ]
    },
    {
     "data": {
      "text/plain": [
       "0.8076923076923077"
      ]
     },
     "execution_count": 145,
     "metadata": {},
     "output_type": "execute_result"
    }
   ],
   "source": [
    "from sklearn.metrics import accuracy_score\n",
    "cm = confusion_matrix(Ytest, predictions)\n",
    "print(cm)\n",
    "accuracy = accuracy_score(Ytest, predictions)\n",
    "accuracy"
   ]
  },
  {
   "cell_type": "markdown",
   "metadata": {},
   "source": [
    "## Subtask 2: K-means"
   ]
  },
  {
   "cell_type": "markdown",
   "metadata": {},
   "source": [
    "K-means is an unsupervised algorithm to select clusters of a dataset. We basically have 3/4 of the data to train and the rest for test. Since there are 2 type(rock, metal) I take the number of clusters as 2 and the classification is done with the splitted X values. And \"R\" and \"M\" are not numerical values. That is why I converted them to 0 and 1 for accuracy score to function properly."
   ]
  },
  {
   "cell_type": "code",
   "execution_count": 301,
   "metadata": {},
   "outputs": [],
   "source": [
    "Xtrain, Xtest, Ytrain, Ytest = train_test_split(xs, ys, test_size = 0.25, train_size = 0.75)"
   ]
  },
  {
   "cell_type": "code",
   "execution_count": 302,
   "metadata": {},
   "outputs": [],
   "source": [
    "from sklearn.cluster import KMeans\n",
    "classifier = KMeans(n_clusters=2,random_state=1).fit(Xtest)\n",
    "predicted = classifier.predict(Xtest)"
   ]
  },
  {
   "cell_type": "code",
   "execution_count": 303,
   "metadata": {},
   "outputs": [],
   "source": [
    "labels = {\"R\":0, \"M\":1}\n",
    "real = Ytest.map(lambda x: labels[x])"
   ]
  },
  {
   "cell_type": "markdown",
   "metadata": {},
   "source": [
    "The accuracy score indicates that approximately half of the predictions are correct."
   ]
  },
  {
   "cell_type": "code",
   "execution_count": 304,
   "metadata": {},
   "outputs": [
    {
     "name": "stdout",
     "output_type": "stream",
     "text": [
      "[[14 10]\n",
      " [12 16]]\n"
     ]
    },
    {
     "data": {
      "text/plain": [
       "0.5769230769230769"
      ]
     },
     "execution_count": 304,
     "metadata": {},
     "output_type": "execute_result"
    }
   ],
   "source": [
    "print(confusion_matrix(real,predicted))\n",
    "accuracy_score(real,predicted)"
   ]
  },
  {
   "cell_type": "markdown",
   "metadata": {},
   "source": [
    "# Subtask 3: Hiearchical clustering"
   ]
  },
  {
   "cell_type": "markdown",
   "metadata": {},
   "source": [
    "Connecting each datapoints as clusters by their distance to eachother the algorithm creates connected clusters. Thus we can see the form of a tree and gives us a better idea of how the clusters emerges."
   ]
  },
  {
   "cell_type": "markdown",
   "metadata": {},
   "source": [
    "So, here is the code to plot a dendrogram by the smallest distances between points using the 'ward' method. I had to change M and R values to 1 and 2 because fcluster function automatically assignes 1 and 2 values. "
   ]
  },
  {
   "cell_type": "markdown",
   "metadata": {},
   "source": [
    "After prediction I changed the labels again to match the predicted ones. And accuracy score shows us the results which are not quite well. It is probable that this does not go well with SONAR dataset because there are many datapoints and since this method calculates the smallest distances to form clusters ."
   ]
  },
  {
   "cell_type": "code",
   "execution_count": 150,
   "metadata": {},
   "outputs": [
    {
     "data": {
      "image/png": "[encoded data removed]",
      "text/plain": [
       "<Figure size 1440x720 with 1 Axes>"
      ]
     },
     "metadata": {},
     "output_type": "display_data"
    }
   ],
   "source": [
    "import numpy as np\n",
    "from scipy.cluster.hierarchy import linkage, dendrogram\n",
    "from scipy.spatial.distance import pdist\n",
    "import matplotlib.pyplot as plt\n",
    "\n",
    "plt.figure(figsize=(20, 10))\n",
    "plt.title('SONAR Dendrogram')\n",
    "plt.xlabel('x')\n",
    "plt.ylabel('levels')\n",
    "dendrogram(linkage(xs, 'ward'))\n",
    "plt.show()"
   ]
  },
  {
   "cell_type": "code",
   "execution_count": 151,
   "metadata": {},
   "outputs": [],
   "source": [
    "from scipy.cluster.hierarchy import fcluster\n",
    "predicted = fcluster(linkage(xs, 'ward'), 2, criterion='maxclust')\n",
    "\n",
    "labels1 = {\"M\":1, \"R\":2}\n",
    "real = ys.map(lambda x: labels1[x])"
   ]
  },
  {
   "cell_type": "code",
   "execution_count": 152,
   "metadata": {},
   "outputs": [
    {
     "name": "stdout",
     "output_type": "stream",
     "text": [
      "[[36 75]\n",
      " [27 70]]\n"
     ]
    },
    {
     "data": {
      "text/plain": [
       "0.5096153846153846"
      ]
     },
     "execution_count": 152,
     "metadata": {},
     "output_type": "execute_result"
    }
   ],
   "source": [
    "print(confusion_matrix(real,predicted))\n",
    "accuracy_score(real,predicted)"
   ]
  },
  {
   "cell_type": "markdown",
   "metadata": {},
   "source": [
    "## Subtask 4: Linear Regression"
   ]
  },
  {
   "cell_type": "markdown",
   "metadata": {},
   "source": [
    "We have multiple columns and that means we have so many X values to predict Y which is either \"rock\" or \"mine\". So we have to reduce the number for a linear regression method. That is why we need to know the correlation between the columns. We use corr function with absolute values to have a correlation matrix. After selecting the upper triangle of the matrix we get rid of the columns which have more than 0.95 of correlation. "
   ]
  },
  {
   "cell_type": "markdown",
   "metadata": {},
   "source": [
    "We assign the new values as x. We still have lots of independent variables. y's are converted to 0 and 1 to have numerical data instead of strings. We fit the model and let it make predictions.In a new dataframe called 'df' we can see the real and predicted values together."
   ]
  },
  {
   "cell_type": "markdown",
   "metadata": {},
   "source": [
    "The summary tells us that especially 49, 54 and 56 have a strong impact on the result while R^2 values is around 0.70."
   ]
  },
  {
   "cell_type": "code",
   "execution_count": 287,
   "metadata": {},
   "outputs": [
    {
     "data": {
      "image/png": "[encoded data removed]",
      "text/plain": [
       "<Figure size 432x288 with 1 Axes>"
      ]
     },
     "metadata": {},
     "output_type": "display_data"
    }
   ],
   "source": [
    "corr_matrix = SONAR.corr().abs()\n",
    "\n",
    "from matplotlib import pyplot\n",
    "plt.imshow(corr_matrix, cmap='hot', interpolation='nearest')\n",
    "plt.show()\n",
    "\n",
    "upper = corr_matrix.where(np.triu(np.ones(corr_matrix.shape), k=1).astype(np.bool))\n",
    "\n",
    "to_drop = [column for column in upper.columns if any(upper[column] < 0.05)]"
   ]
  },
  {
   "cell_type": "code",
   "execution_count": 288,
   "metadata": {},
   "outputs": [
    {
     "data": {
      "text/plain": [
       "[17,\n",
       " 18,\n",
       " 21,\n",
       " 22,\n",
       " 23,\n",
       " 24,\n",
       " 25,\n",
       " 26,\n",
       " 27,\n",
       " 28,\n",
       " 29,\n",
       " 30,\n",
       " 31,\n",
       " 32,\n",
       " 33,\n",
       " 34,\n",
       " 35,\n",
       " 36,\n",
       " 37,\n",
       " 38,\n",
       " 39,\n",
       " 40,\n",
       " 41,\n",
       " 42,\n",
       " 43,\n",
       " 44,\n",
       " 45,\n",
       " 46,\n",
       " 47,\n",
       " 48,\n",
       " 49,\n",
       " 50,\n",
       " 51,\n",
       " 52,\n",
       " 53,\n",
       " 54,\n",
       " 55,\n",
       " 56,\n",
       " 57,\n",
       " 58,\n",
       " 59]"
      ]
     },
     "execution_count": 288,
     "metadata": {},
     "output_type": "execute_result"
    }
   ],
   "source": [
    "selected_columns = to_drop\n",
    "selected_columns"
   ]
  },
  {
   "cell_type": "code",
   "execution_count": 289,
   "metadata": {},
   "outputs": [],
   "source": [
    "x = SONAR.iloc[:,selected_columns]\n",
    "y = SONAR.iloc[:,60:61]"
   ]
  },
  {
   "cell_type": "code",
   "execution_count": 290,
   "metadata": {},
   "outputs": [],
   "source": [
    "y = y.replace(to_replace=['M', 'R'], value=[0, 1])"
   ]
  },
  {
   "cell_type": "code",
   "execution_count": 291,
   "metadata": {},
   "outputs": [
    {
     "data": {
      "text/html": [
       "<div>\n",
       "<style scoped>\n",
       "    .dataframe tbody tr th:only-of-type {\n",
       "        vertical-align: middle;\n",
       "    }\n",
       "\n",
       "    .dataframe tbody tr th {\n",
       "        vertical-align: top;\n",
       "    }\n",
       "\n",
       "    .dataframe thead th {\n",
       "        text-align: right;\n",
       "    }\n",
       "</style>\n",
       "<table border=\"1\" class=\"dataframe\">\n",
       "  <thead>\n",
       "    <tr style=\"text-align: right;\">\n",
       "      <th></th>\n",
       "      <th>real</th>\n",
       "      <th>predicted</th>\n",
       "    </tr>\n",
       "  </thead>\n",
       "  <tbody>\n",
       "    <tr>\n",
       "      <th>0</th>\n",
       "      <td>1.0</td>\n",
       "      <td>0.757661</td>\n",
       "    </tr>\n",
       "    <tr>\n",
       "      <th>1</th>\n",
       "      <td>1.0</td>\n",
       "      <td>1.180900</td>\n",
       "    </tr>\n",
       "    <tr>\n",
       "      <th>2</th>\n",
       "      <td>1.0</td>\n",
       "      <td>0.579951</td>\n",
       "    </tr>\n",
       "    <tr>\n",
       "      <th>3</th>\n",
       "      <td>1.0</td>\n",
       "      <td>0.465656</td>\n",
       "    </tr>\n",
       "    <tr>\n",
       "      <th>4</th>\n",
       "      <td>1.0</td>\n",
       "      <td>0.748072</td>\n",
       "    </tr>\n",
       "    <tr>\n",
       "      <th>5</th>\n",
       "      <td>1.0</td>\n",
       "      <td>0.944185</td>\n",
       "    </tr>\n",
       "    <tr>\n",
       "      <th>6</th>\n",
       "      <td>1.0</td>\n",
       "      <td>0.769213</td>\n",
       "    </tr>\n",
       "    <tr>\n",
       "      <th>7</th>\n",
       "      <td>1.0</td>\n",
       "      <td>0.391337</td>\n",
       "    </tr>\n",
       "    <tr>\n",
       "      <th>8</th>\n",
       "      <td>1.0</td>\n",
       "      <td>0.467509</td>\n",
       "    </tr>\n",
       "    <tr>\n",
       "      <th>9</th>\n",
       "      <td>1.0</td>\n",
       "      <td>0.489084</td>\n",
       "    </tr>\n",
       "    <tr>\n",
       "      <th>10</th>\n",
       "      <td>1.0</td>\n",
       "      <td>0.689504</td>\n",
       "    </tr>\n",
       "    <tr>\n",
       "      <th>11</th>\n",
       "      <td>1.0</td>\n",
       "      <td>0.616369</td>\n",
       "    </tr>\n",
       "    <tr>\n",
       "      <th>12</th>\n",
       "      <td>1.0</td>\n",
       "      <td>0.872960</td>\n",
       "    </tr>\n",
       "    <tr>\n",
       "      <th>13</th>\n",
       "      <td>1.0</td>\n",
       "      <td>1.170768</td>\n",
       "    </tr>\n",
       "    <tr>\n",
       "      <th>14</th>\n",
       "      <td>1.0</td>\n",
       "      <td>0.430765</td>\n",
       "    </tr>\n",
       "    <tr>\n",
       "      <th>15</th>\n",
       "      <td>1.0</td>\n",
       "      <td>1.121927</td>\n",
       "    </tr>\n",
       "    <tr>\n",
       "      <th>16</th>\n",
       "      <td>1.0</td>\n",
       "      <td>1.287610</td>\n",
       "    </tr>\n",
       "    <tr>\n",
       "      <th>17</th>\n",
       "      <td>1.0</td>\n",
       "      <td>0.654987</td>\n",
       "    </tr>\n",
       "    <tr>\n",
       "      <th>18</th>\n",
       "      <td>1.0</td>\n",
       "      <td>0.911866</td>\n",
       "    </tr>\n",
       "    <tr>\n",
       "      <th>19</th>\n",
       "      <td>1.0</td>\n",
       "      <td>0.544287</td>\n",
       "    </tr>\n",
       "    <tr>\n",
       "      <th>20</th>\n",
       "      <td>1.0</td>\n",
       "      <td>0.482619</td>\n",
       "    </tr>\n",
       "    <tr>\n",
       "      <th>21</th>\n",
       "      <td>1.0</td>\n",
       "      <td>0.628025</td>\n",
       "    </tr>\n",
       "    <tr>\n",
       "      <th>22</th>\n",
       "      <td>1.0</td>\n",
       "      <td>0.324859</td>\n",
       "    </tr>\n",
       "    <tr>\n",
       "      <th>23</th>\n",
       "      <td>1.0</td>\n",
       "      <td>0.496757</td>\n",
       "    </tr>\n",
       "    <tr>\n",
       "      <th>24</th>\n",
       "      <td>1.0</td>\n",
       "      <td>1.028622</td>\n",
       "    </tr>\n",
       "    <tr>\n",
       "      <th>25</th>\n",
       "      <td>1.0</td>\n",
       "      <td>0.644272</td>\n",
       "    </tr>\n",
       "    <tr>\n",
       "      <th>26</th>\n",
       "      <td>1.0</td>\n",
       "      <td>0.311237</td>\n",
       "    </tr>\n",
       "    <tr>\n",
       "      <th>27</th>\n",
       "      <td>1.0</td>\n",
       "      <td>0.560172</td>\n",
       "    </tr>\n",
       "    <tr>\n",
       "      <th>28</th>\n",
       "      <td>1.0</td>\n",
       "      <td>0.909475</td>\n",
       "    </tr>\n",
       "    <tr>\n",
       "      <th>29</th>\n",
       "      <td>1.0</td>\n",
       "      <td>0.715498</td>\n",
       "    </tr>\n",
       "    <tr>\n",
       "      <th>...</th>\n",
       "      <td>...</td>\n",
       "      <td>...</td>\n",
       "    </tr>\n",
       "    <tr>\n",
       "      <th>178</th>\n",
       "      <td>0.0</td>\n",
       "      <td>0.470291</td>\n",
       "    </tr>\n",
       "    <tr>\n",
       "      <th>179</th>\n",
       "      <td>0.0</td>\n",
       "      <td>0.264894</td>\n",
       "    </tr>\n",
       "    <tr>\n",
       "      <th>180</th>\n",
       "      <td>0.0</td>\n",
       "      <td>-0.279780</td>\n",
       "    </tr>\n",
       "    <tr>\n",
       "      <th>181</th>\n",
       "      <td>0.0</td>\n",
       "      <td>-0.368187</td>\n",
       "    </tr>\n",
       "    <tr>\n",
       "      <th>182</th>\n",
       "      <td>0.0</td>\n",
       "      <td>-0.006957</td>\n",
       "    </tr>\n",
       "    <tr>\n",
       "      <th>183</th>\n",
       "      <td>0.0</td>\n",
       "      <td>-0.089279</td>\n",
       "    </tr>\n",
       "    <tr>\n",
       "      <th>184</th>\n",
       "      <td>0.0</td>\n",
       "      <td>-0.118546</td>\n",
       "    </tr>\n",
       "    <tr>\n",
       "      <th>185</th>\n",
       "      <td>0.0</td>\n",
       "      <td>-0.002216</td>\n",
       "    </tr>\n",
       "    <tr>\n",
       "      <th>186</th>\n",
       "      <td>0.0</td>\n",
       "      <td>-0.089077</td>\n",
       "    </tr>\n",
       "    <tr>\n",
       "      <th>187</th>\n",
       "      <td>0.0</td>\n",
       "      <td>0.050395</td>\n",
       "    </tr>\n",
       "    <tr>\n",
       "      <th>188</th>\n",
       "      <td>0.0</td>\n",
       "      <td>0.204373</td>\n",
       "    </tr>\n",
       "    <tr>\n",
       "      <th>189</th>\n",
       "      <td>0.0</td>\n",
       "      <td>0.546977</td>\n",
       "    </tr>\n",
       "    <tr>\n",
       "      <th>190</th>\n",
       "      <td>0.0</td>\n",
       "      <td>0.513065</td>\n",
       "    </tr>\n",
       "    <tr>\n",
       "      <th>191</th>\n",
       "      <td>0.0</td>\n",
       "      <td>0.678113</td>\n",
       "    </tr>\n",
       "    <tr>\n",
       "      <th>192</th>\n",
       "      <td>0.0</td>\n",
       "      <td>0.507541</td>\n",
       "    </tr>\n",
       "    <tr>\n",
       "      <th>193</th>\n",
       "      <td>0.0</td>\n",
       "      <td>0.624124</td>\n",
       "    </tr>\n",
       "    <tr>\n",
       "      <th>194</th>\n",
       "      <td>0.0</td>\n",
       "      <td>0.435406</td>\n",
       "    </tr>\n",
       "    <tr>\n",
       "      <th>195</th>\n",
       "      <td>0.0</td>\n",
       "      <td>0.176403</td>\n",
       "    </tr>\n",
       "    <tr>\n",
       "      <th>196</th>\n",
       "      <td>0.0</td>\n",
       "      <td>0.041295</td>\n",
       "    </tr>\n",
       "    <tr>\n",
       "      <th>197</th>\n",
       "      <td>0.0</td>\n",
       "      <td>0.162473</td>\n",
       "    </tr>\n",
       "    <tr>\n",
       "      <th>198</th>\n",
       "      <td>0.0</td>\n",
       "      <td>0.155714</td>\n",
       "    </tr>\n",
       "    <tr>\n",
       "      <th>199</th>\n",
       "      <td>0.0</td>\n",
       "      <td>0.033416</td>\n",
       "    </tr>\n",
       "    <tr>\n",
       "      <th>200</th>\n",
       "      <td>0.0</td>\n",
       "      <td>0.015965</td>\n",
       "    </tr>\n",
       "    <tr>\n",
       "      <th>201</th>\n",
       "      <td>0.0</td>\n",
       "      <td>0.142346</td>\n",
       "    </tr>\n",
       "    <tr>\n",
       "      <th>202</th>\n",
       "      <td>0.0</td>\n",
       "      <td>0.511029</td>\n",
       "    </tr>\n",
       "    <tr>\n",
       "      <th>203</th>\n",
       "      <td>0.0</td>\n",
       "      <td>0.022882</td>\n",
       "    </tr>\n",
       "    <tr>\n",
       "      <th>204</th>\n",
       "      <td>0.0</td>\n",
       "      <td>0.371141</td>\n",
       "    </tr>\n",
       "    <tr>\n",
       "      <th>205</th>\n",
       "      <td>0.0</td>\n",
       "      <td>0.584453</td>\n",
       "    </tr>\n",
       "    <tr>\n",
       "      <th>206</th>\n",
       "      <td>0.0</td>\n",
       "      <td>0.404044</td>\n",
       "    </tr>\n",
       "    <tr>\n",
       "      <th>207</th>\n",
       "      <td>0.0</td>\n",
       "      <td>0.598568</td>\n",
       "    </tr>\n",
       "  </tbody>\n",
       "</table>\n",
       "<p>208 rows × 2 columns</p>\n",
       "</div>"
      ],
      "text/plain": [
       "     real  predicted\n",
       "0     1.0   0.757661\n",
       "1     1.0   1.180900\n",
       "2     1.0   0.579951\n",
       "3     1.0   0.465656\n",
       "4     1.0   0.748072\n",
       "5     1.0   0.944185\n",
       "6     1.0   0.769213\n",
       "7     1.0   0.391337\n",
       "8     1.0   0.467509\n",
       "9     1.0   0.489084\n",
       "10    1.0   0.689504\n",
       "11    1.0   0.616369\n",
       "12    1.0   0.872960\n",
       "13    1.0   1.170768\n",
       "14    1.0   0.430765\n",
       "15    1.0   1.121927\n",
       "16    1.0   1.287610\n",
       "17    1.0   0.654987\n",
       "18    1.0   0.911866\n",
       "19    1.0   0.544287\n",
       "20    1.0   0.482619\n",
       "21    1.0   0.628025\n",
       "22    1.0   0.324859\n",
       "23    1.0   0.496757\n",
       "24    1.0   1.028622\n",
       "25    1.0   0.644272\n",
       "26    1.0   0.311237\n",
       "27    1.0   0.560172\n",
       "28    1.0   0.909475\n",
       "29    1.0   0.715498\n",
       "..    ...        ...\n",
       "178   0.0   0.470291\n",
       "179   0.0   0.264894\n",
       "180   0.0  -0.279780\n",
       "181   0.0  -0.368187\n",
       "182   0.0  -0.006957\n",
       "183   0.0  -0.089279\n",
       "184   0.0  -0.118546\n",
       "185   0.0  -0.002216\n",
       "186   0.0  -0.089077\n",
       "187   0.0   0.050395\n",
       "188   0.0   0.204373\n",
       "189   0.0   0.546977\n",
       "190   0.0   0.513065\n",
       "191   0.0   0.678113\n",
       "192   0.0   0.507541\n",
       "193   0.0   0.624124\n",
       "194   0.0   0.435406\n",
       "195   0.0   0.176403\n",
       "196   0.0   0.041295\n",
       "197   0.0   0.162473\n",
       "198   0.0   0.155714\n",
       "199   0.0   0.033416\n",
       "200   0.0   0.015965\n",
       "201   0.0   0.142346\n",
       "202   0.0   0.511029\n",
       "203   0.0   0.022882\n",
       "204   0.0   0.371141\n",
       "205   0.0   0.584453\n",
       "206   0.0   0.404044\n",
       "207   0.0   0.598568\n",
       "\n",
       "[208 rows x 2 columns]"
      ]
     },
     "execution_count": 291,
     "metadata": {},
     "output_type": "execute_result"
    }
   ],
   "source": [
    "import numpy as np\n",
    "from sklearn import datasets, linear_model\n",
    "\n",
    "lm = linear_model.LinearRegression()\n",
    "model = lm.fit(x,y)\n",
    "predictions = lm.predict(x)\n",
    "\n",
    "df = pd.DataFrame(np.c_[y,predictions],columns = [\"real\",\"predicted\"])\n",
    "df"
   ]
  },
  {
   "cell_type": "code",
   "execution_count": 292,
   "metadata": {},
   "outputs": [
    {
     "name": "stdout",
     "output_type": "stream",
     "text": [
      "                            OLS Regression Results                            \n",
      "==============================================================================\n",
      "Dep. Variable:                     60   R-squared:                       0.694\n",
      "Model:                            OLS   Adj. R-squared:                  0.619\n",
      "Method:                 Least Squares   F-statistic:                     9.242\n",
      "Date:                Fri, 23 Nov 2018   Prob (F-statistic):           5.07e-26\n",
      "Time:                        22:23:58   Log-Likelihood:                -92.617\n",
      "No. Observations:                 208   AIC:                             267.2\n",
      "Df Residuals:                     167   BIC:                             404.1\n",
      "Df Model:                          41                                         \n",
      "Covariance Type:            nonrobust                                         \n",
      "==============================================================================\n",
      "                 coef    std err          t      P>|t|      [0.025      0.975]\n",
      "------------------------------------------------------------------------------\n",
      "17             0.1586      0.287      0.552      0.581      -0.408       0.726\n",
      "18             0.0486      0.313      0.155      0.877      -0.570       0.667\n",
      "21            -0.0834      0.308     -0.271      0.787      -0.691       0.524\n",
      "22            -0.1573      0.464     -0.339      0.735      -1.073       0.758\n",
      "23             0.1229      0.531      0.232      0.817      -0.925       1.171\n",
      "24            -0.4403      0.548     -0.804      0.423      -1.522       0.641\n",
      "25             1.0677      0.579      1.843      0.067      -0.076       2.212\n",
      "26            -0.5594      0.558     -1.002      0.318      -1.661       0.543\n",
      "27             0.1004      0.507      0.198      0.843      -0.901       1.102\n",
      "28             0.6472      0.459      1.410      0.160      -0.259       1.553\n",
      "29            -1.3552      0.483     -2.803      0.006      -2.310      -0.401\n",
      "30             1.9530      0.515      3.789      0.000       0.935       2.970\n",
      "31            -0.9868      0.510     -1.935      0.055      -1.993       0.020\n",
      "32             0.2957      0.509      0.581      0.562      -0.709       1.300\n",
      "33             0.0674      0.508      0.133      0.895      -0.936       1.071\n",
      "34            -0.4750      0.492     -0.966      0.335      -1.446       0.496\n",
      "35             1.0620      0.517      2.055      0.041       0.042       2.082\n",
      "36            -0.0021      0.500     -0.004      0.997      -0.989       0.985\n",
      "37             0.2675      0.530      0.505      0.614      -0.779       1.314\n",
      "38            -0.8246      0.525     -1.570      0.118      -1.862       0.212\n",
      "39             0.8645      0.511      1.691      0.093      -0.145       1.874\n",
      "40            -0.2489      0.532     -0.468      0.641      -1.300       0.802\n",
      "41             0.5327      0.559      0.953      0.342      -0.571       1.637\n",
      "42            -0.7490      0.646     -1.160      0.248      -2.024       0.526\n",
      "43            -0.1016      0.698     -0.146      0.884      -1.480       1.277\n",
      "44            -0.4403      0.775     -0.568      0.571      -1.971       1.090\n",
      "45            -0.4617      0.944     -0.489      0.625      -2.325       1.402\n",
      "46             0.3559      1.297      0.274      0.784      -2.204       2.916\n",
      "47            -0.9698      1.703     -0.569      0.570      -4.332       2.393\n",
      "48            -4.3474      2.449     -1.775      0.078      -9.182       0.487\n",
      "49            10.0796      3.912      2.577      0.011       2.356      17.803\n",
      "50             4.3267      4.042      1.070      0.286      -3.654      12.307\n",
      "51            -6.4173      4.848     -1.324      0.187     -15.989       3.155\n",
      "52            -2.5277      5.932     -0.426      0.671     -14.240       9.185\n",
      "53            -6.2978      5.356     -1.176      0.241     -16.872       4.276\n",
      "54            12.3777      5.870      2.109      0.036       0.788      23.967\n",
      "55             2.4746      7.753      0.319      0.750     -12.831      17.781\n",
      "56            10.5147      6.967      1.509      0.133      -3.239      24.269\n",
      "57            -8.1326      7.025     -1.158      0.249     -22.002       5.737\n",
      "58            -3.6195      8.148     -0.444      0.657     -19.706      12.467\n",
      "59             0.6491      8.298      0.078      0.938     -15.733      17.031\n",
      "==============================================================================\n",
      "Omnibus:                       17.640   Durbin-Watson:                   0.637\n",
      "Prob(Omnibus):                  0.000   Jarque-Bera (JB):                6.641\n",
      "Skew:                           0.129   Prob(JB):                       0.0361\n",
      "Kurtosis:                       2.164   Cond. No.                         905.\n",
      "==============================================================================\n",
      "\n",
      "Warnings:\n",
      "[1] Standard Errors assume that the covariance matrix of the errors is correctly specified.\n"
     ]
    }
   ],
   "source": [
    "import statsmodels.api as sm\n",
    "from scipy import stats\n",
    "\n",
    "est = sm.OLS(y, x)\n",
    "est2 = est.fit()\n",
    "print(est2.summary())"
   ]
  },
  {
   "cell_type": "markdown",
   "metadata": {},
   "source": [
    "## Subtask 5: Logistic Regression"
   ]
  },
  {
   "cell_type": "markdown",
   "metadata": {},
   "source": [
    "After assigning train and test datas again the labels are converted to 0 and 1. Logistic regression model splits the data points into half by a hyperplane. Fitting the model and making predictions, the accuracy score gives us a considerably high ratio."
   ]
  },
  {
   "cell_type": "code",
   "execution_count": 163,
   "metadata": {},
   "outputs": [],
   "source": [
    "Xtrain, Xtest, Ytrain, Ytest = train_test_split(xs, ys, test_size = 0.25, train_size = 0.75, random_state = 0)"
   ]
  },
  {
   "cell_type": "code",
   "execution_count": 164,
   "metadata": {},
   "outputs": [],
   "source": [
    "labels = {\"R\":0, \"M\":1}\n",
    "Ytrain = Ytrain.map(lambda x: labels[x])\n",
    "\n",
    "labels = {\"R\":0, \"M\":1}\n",
    "Ytest = Ytest.map(lambda x: labels[x])"
   ]
  },
  {
   "cell_type": "code",
   "execution_count": 165,
   "metadata": {},
   "outputs": [],
   "source": [
    "from sklearn.linear_model import LogisticRegression\n",
    "logisticRegr = LogisticRegression()\n",
    "logisticRegr.fit(Xtrain, Ytrain)\n",
    "predictions = logisticRegr.predict(Xtest)"
   ]
  },
  {
   "cell_type": "code",
   "execution_count": 166,
   "metadata": {},
   "outputs": [
    {
     "name": "stdout",
     "output_type": "stream",
     "text": [
      "[[15 11]\n",
      " [ 4 22]]\n"
     ]
    },
    {
     "data": {
      "text/plain": [
       "0.7115384615384616"
      ]
     },
     "execution_count": 166,
     "metadata": {},
     "output_type": "execute_result"
    }
   ],
   "source": [
    "print(confusion_matrix(Ytest,predictions))\n",
    "accuracy_score(Ytest,predictions)"
   ]
  }
 ],
 "metadata": {
  "kernelspec": {
   "display_name": "Python 3",
   "language": "python",
   "name": "python3"
  },
  "language_info": {
   "codemirror_mode": {
    "name": "ipython",
    "version": 3
   },
   "file_extension": ".py",
   "mimetype": "text/x-python",
   "name": "python",
   "nbconvert_exporter": "python",
   "pygments_lexer": "ipython3",
   "version": "3.6.5"
  }
 },
 "nbformat": 4,
 "nbformat_minor": 2
}
